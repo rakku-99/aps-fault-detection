{
 "cells": [
  {
   "cell_type": "markdown",
   "metadata": {},
   "source": [
    "## scipy.stats.ks_2samp\n",
    "scipy.stats.ks_2samp(data1, data2, alternative='two-sided', method='auto')\n",
    "\n",
    "#### Performs the two-sample Kolmogorov-Smirnov test for goodness of fit.\n",
    "\n",
    "This test compares the underlying continuous distributions F(x) and G(x) of two independent samples. See Notes for a description of the available null and alternative hypotheses."
   ]
  },
  {
   "cell_type": "code",
   "execution_count": 4,
   "metadata": {},
   "outputs": [],
   "source": [
    "import numpy as np\n",
    "from scipy import stats\n",
    "rng = np.random.default_rng()\n",
    "sample1 = stats.uniform.rvs(size=100, random_state=rng)\n",
    "sample2 = stats.norm.rvs(size=110, random_state=rng)\n",
    "\n",
    "response=stats.ks_2samp(sample1, sample2)\n",
    "#KstestResult(statistic=0.5454545454545454, pvalue=7.37417839555191e-15)"
   ]
  },
  {
   "cell_type": "code",
   "execution_count": null,
   "metadata": {},
   "outputs": [],
   "source": [
    "sample1"
   ]
  },
  {
   "cell_type": "code",
   "execution_count": null,
   "metadata": {},
   "outputs": [],
   "source": [
    "sample2"
   ]
  },
  {
   "cell_type": "code",
   "execution_count": 7,
   "metadata": {},
   "outputs": [
    {
     "data": {
      "text/plain": [
       "KstestResult(statistic=0.4818181818181818, pvalue=1.4622516077174367e-11)"
      ]
     },
     "execution_count": 7,
     "metadata": {},
     "output_type": "execute_result"
    }
   ],
   "source": [
    "response"
   ]
  },
  {
   "cell_type": "code",
   "execution_count": 21,
   "metadata": {},
   "outputs": [
    {
     "data": {
      "text/plain": [
       "0.0"
      ]
     },
     "execution_count": 21,
     "metadata": {},
     "output_type": "execute_result"
    }
   ],
   "source": [
    "round(response.pvalue,8)"
   ]
  },
  {
   "cell_type": "code",
   "execution_count": 19,
   "metadata": {},
   "outputs": [
    {
     "data": {
      "text/plain": [
       "1e-11"
      ]
     },
     "execution_count": 19,
     "metadata": {},
     "output_type": "execute_result"
    }
   ],
   "source": [
    "round(response.pvalue,11)"
   ]
  },
  {
   "cell_type": "code",
   "execution_count": 20,
   "metadata": {},
   "outputs": [
    {
     "data": {
      "text/plain": [
       "1.462e-11"
      ]
     },
     "execution_count": 20,
     "metadata": {},
     "output_type": "execute_result"
    }
   ],
   "source": [
    "round(response.pvalue,14)"
   ]
  },
  {
   "cell_type": "markdown",
   "metadata": {},
   "source": [
    "Anomaly in  my dataset\n",
    "1. high null value \n",
    "2. missing columns\n",
    "3. outlier\n",
    "4. categorical: Gender->M,F,Other"
   ]
  },
  {
   "cell_type": "markdown",
   "metadata": {},
   "source": [
    "### Target Drift ML ( Data change - update Model)\n",
    "Salary vs age\n",
    "\n",
    "Target column changed"
   ]
  },
  {
   "cell_type": "code",
   "execution_count": null,
   "metadata": {},
   "outputs": [],
   "source": [
    "import pandas as pd\n",
    "pd=pd.read_csv(\"/config/workspace/artifact/.../data_ingetion/dataset/train.csv\")\n",
    "df.isnull().sum()"
   ]
  },
  {
   "cell_type": "code",
   "execution_count": null,
   "metadata": {},
   "outputs": [],
   "source": [
    "# percentage\n",
    "df.isnull().sum()/df.shape[0]\n",
    "\n",
    "# percentage for each column\n",
    "(df.isnull().sum()/df.shape[0]).values*100\n",
    "\n",
    "# column name\n",
    "(df.isnull().sum()/df.shape[0]).index()\n",
    "\n",
    "# Zip both\n",
    "zip((df.isnull().sum()/df.shape[0]).index(), (df.isnull().sum()/df.shape[0]).values)\n",
    "\n",
    "drop_column_names=[]\n",
    "for column_name,missing_percentage in zip((df.isnull().sum()/df.shape[0]).index(),(df.isnull().sum()/df.shape[0]).values):\n",
    "    print  (column_name,missing_percentage*100)\n",
    "    if missing_percentage>0.3:\n",
    "        drop_column_names.append(column_name)"
   ]
  },
  {
   "cell_type": "code",
   "execution_count": null,
   "metadata": {},
   "outputs": [],
   "source": [
    "null_report = df.isna().sum()/df.shape[0]\n",
    "null_report[null_report>0.3].index"
   ]
  },
  {
   "cell_type": "code",
   "execution_count": null,
   "metadata": {},
   "outputs": [],
   "source": [
    "l1=[1,2,3,4]\n",
    "l2=[2,3,4,5]\n",
    "for l1_v,l2_v in zip(l1,l2):\n",
    "    print(l1_v,l2_v)\n",
    "    df=pd.DataFrame(zip(l1,l2))\n",
    "    df.drop(list(zip(l1,l2)),axis=1,inplace=True)"
   ]
  },
  {
   "cell_type": "code",
   "execution_count": null,
   "metadata": {},
   "outputs": [],
   "source": []
  }
 ],
 "metadata": {
  "kernelspec": {
   "display_name": "Python 3.8.10 64-bit",
   "language": "python",
   "name": "python3"
  },
  "language_info": {
   "codemirror_mode": {
    "name": "ipython",
    "version": 3
   },
   "file_extension": ".py",
   "mimetype": "text/x-python",
   "name": "python",
   "nbconvert_exporter": "python",
   "pygments_lexer": "ipython3",
   "version": "3.8.10"
  },
  "orig_nbformat": 4,
  "vscode": {
   "interpreter": {
    "hash": "e7370f93d1d0cde622a1f8e1c04877d8463912d04d973331ad4851f04de6915a"
   }
  }
 },
 "nbformat": 4,
 "nbformat_minor": 2
}
