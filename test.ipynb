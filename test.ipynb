{
 "cells": [
  {
   "cell_type": "code",
   "execution_count": 32,
   "metadata": {},
   "outputs": [],
   "source": [
    "from sensor.predictor import ModelResolver\n",
    "from sensor.exception import SensorException"
   ]
  },
  {
   "cell_type": "code",
   "execution_count": 33,
   "metadata": {},
   "outputs": [],
   "source": [
    "model_resolver=ModelResolver()"
   ]
  },
  {
   "cell_type": "code",
   "execution_count": 34,
   "metadata": {},
   "outputs": [
    {
     "ename": "SensorException",
     "evalue": "Error occured python script name [/config/workspace/sensor/predictor.py] line number [49] error message [Error occured python script name [/config/workspace/sensor/predictor.py] line number [25] error message [name 'dir_name' is not defined]]",
     "output_type": "error",
     "traceback": [
      "\u001b[0;31m---------------------------------------------------------------------------\u001b[0m",
      "\u001b[0;31mNameError\u001b[0m                                 Traceback (most recent call last)",
      "File \u001b[0;32m~/workspace/sensor/predictor.py:25\u001b[0m, in \u001b[0;36mModelResolver.get_latest_dir_path\u001b[0;34m(self)\u001b[0m\n\u001b[1;32m     24\u001b[0m     \u001b[39mreturn\u001b[39;00m \u001b[39mNone\u001b[39;00m\n\u001b[0;32m---> 25\u001b[0m dir_names \u001b[39m=\u001b[39m \u001b[39mlist\u001b[39m(\u001b[39mmap\u001b[39m(\u001b[39mint\u001b[39m, dir_name))\n\u001b[1;32m     26\u001b[0m latest_dir_name \u001b[39m=\u001b[39m \u001b[39mmax\u001b[39m((dir_names))\n",
      "\u001b[0;31mNameError\u001b[0m: name 'dir_name' is not defined",
      "\nDuring handling of the above exception, another exception occurred:\n",
      "\u001b[0;31mSensorException\u001b[0m                           Traceback (most recent call last)",
      "File \u001b[0;32m~/workspace/sensor/predictor.py:49\u001b[0m, in \u001b[0;36mget_latest_model_path\u001b[0;34m(self)\u001b[0m\n\u001b[1;32m     48\u001b[0m \u001b[39mexcept\u001b[39;00m \u001b[39mException\u001b[39;00m \u001b[39mas\u001b[39;00m e:\n\u001b[0;32m---> 49\u001b[0m     \u001b[39mraise\u001b[39;00m SensorException(e, sys)\n",
      "File \u001b[0;32m~/workspace/sensor/predictor.py:29\u001b[0m, in \u001b[0;36mModelResolver.get_latest_dir_path\u001b[0;34m(self)\u001b[0m\n\u001b[1;32m     28\u001b[0m \u001b[39mexcept\u001b[39;00m \u001b[39mException\u001b[39;00m \u001b[39mas\u001b[39;00m e:\n\u001b[0;32m---> 29\u001b[0m     \u001b[39mraise\u001b[39;00m SensorException(e, sys)\n",
      "\u001b[0;31mSensorException\u001b[0m: Error occured python script name [/config/workspace/sensor/predictor.py] line number [25] error message [name 'dir_name' is not defined]",
      "\nDuring handling of the above exception, another exception occurred:\n",
      "\u001b[0;31mSensorException\u001b[0m                           Traceback (most recent call last)",
      "Cell \u001b[0;32mIn[34], line 1\u001b[0m\n\u001b[0;32m----> 1\u001b[0m \u001b[43mmodel_resolver\u001b[49m\u001b[38;5;241;43m.\u001b[39;49m\u001b[43mget_latest_model_path\u001b[49m\u001b[43m(\u001b[49m\u001b[43m)\u001b[49m\n",
      "File \u001b[0;32m~/workspace/sensor/predictor.py:53\u001b[0m, in \u001b[0;36mget_latest_model_path\u001b[0;34m(self)\u001b[0m\n\u001b[1;32m     51\u001b[0m \u001b[39mdef\u001b[39;00m \u001b[39mget_latest_model_path\u001b[39m(\u001b[39mself\u001b[39m):\n\u001b[1;32m     52\u001b[0m     \u001b[39mtry\u001b[39;00m:            \n\u001b[0;32m---> 53\u001b[0m        latest_dir \u001b[39m=\u001b[39m \u001b[39mself\u001b[39m\u001b[39m.\u001b[39mget_latest_dir_path()\n\u001b[1;32m     54\u001b[0m        \u001b[39mif\u001b[39;00m latest_dir \u001b[39mis\u001b[39;00m \u001b[39mNone\u001b[39;00m:\n\u001b[1;32m     55\u001b[0m             \u001b[39mraise\u001b[39;00m \u001b[39mException\u001b[39;00m(\u001b[39mf\u001b[39m\u001b[39m\"\u001b[39m\u001b[39mModel is not available \u001b[39m\u001b[39m\"\u001b[39m)\n",
      "\u001b[0;31mSensorException\u001b[0m: Error occured python script name [/config/workspace/sensor/predictor.py] line number [49] error message [Error occured python script name [/config/workspace/sensor/predictor.py] line number [25] error message [name 'dir_name' is not defined]]"
     ]
    }
   ],
   "source": [
    "model_resolver.get_latest_model_path()"
   ]
  },
  {
   "cell_type": "code",
   "execution_count": null,
   "metadata": {},
   "outputs": [],
   "source": []
  }
 ],
 "metadata": {
  "kernelspec": {
   "display_name": "Python 3.8.10 64-bit",
   "language": "python",
   "name": "python3"
  },
  "language_info": {
   "codemirror_mode": {
    "name": "ipython",
    "version": 3
   },
   "file_extension": ".py",
   "mimetype": "text/x-python",
   "name": "python",
   "nbconvert_exporter": "python",
   "pygments_lexer": "ipython3",
   "version": "3.8.10"
  },
  "orig_nbformat": 4,
  "vscode": {
   "interpreter": {
    "hash": "e7370f93d1d0cde622a1f8e1c04877d8463912d04d973331ad4851f04de6915a"
   }
  }
 },
 "nbformat": 4,
 "nbformat_minor": 2
}
